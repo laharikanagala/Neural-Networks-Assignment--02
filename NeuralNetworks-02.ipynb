{
 "cells": [
  {
   "cell_type": "code",
   "execution_count": 2,
   "id": "c757b283-3a56-4a8c-890b-9c9ea6744fab",
   "metadata": {},
   "outputs": [],
   "source": [
    "def Full_name(first_name=\"first name\",last_name='last name'):\n",
    "    return first_name+' '+last_name \n"
   ]
  },
  {
   "cell_type": "code",
   "execution_count": 3,
   "id": "99d5577c-bcb6-47e3-a80f-31862d19f53b",
   "metadata": {},
   "outputs": [
    {
     "name": "stdin",
     "output_type": "stream",
     "text": [
      "Enter your first name:/n Lahari\n",
      "Enter your last name:/n Kanagala\n"
     ]
    },
    {
     "name": "stdout",
     "output_type": "stream",
     "text": [
      "Lahari Kanagala\n"
     ]
    }
   ],
   "source": [
    "first_name=input(\"Enter your first name:/n\")# Used input function to accept a string from the user and stored in a variable\n",
    "last_name=input(\"Enter your last name:/n\")\n",
    "full_name=Full_name(first_name,last_name)#passed variables to the function\n",
    "print(full_name)"
   ]
  },
  {
   "cell_type": "code",
   "execution_count": 4,
   "id": "c7cf8c1a-94b6-484c-9472-f0b377eedee5",
   "metadata": {},
   "outputs": [
    {
     "data": {
      "text/plain": [
       "'Go vnn'"
      ]
     },
     "execution_count": 4,
     "metadata": {},
     "output_type": "execute_result"
    }
   ],
   "source": [
    "def string_alternative(string):\n",
    "    o=''\n",
    "    for i in range(0,len(string)):#Here i am iterating the string from 0 to the lenght of the string \n",
    "        if(i%2==0):#Here i am taking each character and doing modulus with and equating to 0 so that we can get the all the alternate characters in the string \n",
    "            o=o+string[i]# Here i am adding empty string to the list of characters according the index so that we can return the string and then print it.\n",
    "    return o\n",
    "string_alternative('Good evening')#called the function by passing \"Good Evening\" as a string."
   ]
  },
  {
   "cell_type": "code",
   "execution_count": null,
   "id": "ae35b2c8-7a83-457b-9c84-0c6379863238",
   "metadata": {},
   "outputs": [],
   "source": [
    "with open('input_file.txt','r') as ipf:#created a file named input_file and used read and split functions to read the file and split the words into several words as per the question\n",
    "    line=ipf.read()\n",
    "    word=line.split()\n",
    "    with open('output_file.txt','w') as opf:\n",
    "        for i in word: # Here i have iterated through word variable where the split of words are returned \n",
    "            opf.write(i+':'+str(word.count(i))+'\\n')      \n",
    "opf=open('output_file.txt','r')\n",
    "print(opf.read())"
   ]
  },
  {
   "cell_type": "code",
   "execution_count": null,
   "id": "cd432324-c98d-43d7-a1f8-f0f0b98f8d0b",
   "metadata": {},
   "outputs": [],
   "source": [
    "# Nested interactive loop\n",
    "heights=[]# Empty List\n",
    "\n",
    "while True:\n",
    "    x=float(input())\n",
    "    if(x<=0):\n",
    "        break\n",
    "    heights.append(x)#this is in inches"
   ]
  },
  {
   "cell_type": "code",
   "execution_count": null,
   "id": "b51cc7dc-f5e6-4443-a4a5-d0a8f2253ac4",
   "metadata": {},
   "outputs": [],
   "source": [
    "output=[x*2.54 for x in heights]\n",
    "print(output)#this is in cm"
   ]
  }
 ],
 "metadata": {
  "kernelspec": {
   "display_name": "Python 3 (ipykernel)",
   "language": "python",
   "name": "python3"
  },
  "language_info": {
   "codemirror_mode": {
    "name": "ipython",
    "version": 3
   },
   "file_extension": ".py",
   "mimetype": "text/x-python",
   "name": "python",
   "nbconvert_exporter": "python",
   "pygments_lexer": "ipython3",
   "version": "3.11.5"
  }
 },
 "nbformat": 4,
 "nbformat_minor": 5
}
