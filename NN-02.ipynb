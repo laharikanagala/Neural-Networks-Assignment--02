{
 "cells": [
  {
   "cell_type": "code",
   "execution_count": 2,
   "id": "446b4fcf-e4ed-44bc-9c31-a97a9c6b8456",
   "metadata": {},
   "outputs": [],
   "source": [
    "def Full_name(first_name=\"first name\",last_name='last name'):\n",
    "    return first_name+' '+last_name "
   ]
  },
  {
   "cell_type": "code",
   "execution_count": 3,
   "id": "032c6178-5266-474d-86b8-6b9da766dfb5",
   "metadata": {},
   "outputs": [
    {
     "name": "stdin",
     "output_type": "stream",
     "text": [
      "Enter your first name:/n Lahari\n",
      "Enter your last name:/n Kanagala\n"
     ]
    },
    {
     "name": "stdout",
     "output_type": "stream",
     "text": [
      "Lahari Kanagala\n"
     ]
    }
   ],
   "source": [
    "first_name=input(\"Enter your first name:/n\")# Used input function to accept a string from the user and stored in a variable\n",
    "last_name=input(\"Enter your last name:/n\")\n",
    "full_name=Full_name(first_name,last_name)#passed variables to the function\n",
    "print(full_name)"
   ]
  },
  {
   "cell_type": "code",
   "execution_count": 4,
   "id": "b0d1ec1f-5963-49d8-ad1d-4307974c2653",
   "metadata": {},
   "outputs": [
    {
     "data": {
      "text/plain": [
       "'Go vnn'"
      ]
     },
     "execution_count": 4,
     "metadata": {},
     "output_type": "execute_result"
    }
   ],
   "source": [
    "def string_alternative(string):\n",
    "    o=''\n",
    "    for i in range(0,len(string)):#Here i am iterating the string from 0 to the lenght of the string \n",
    "        if(i%2==0):#Here i am taking each character and doing modulus with and equating to 0 so that we can get the all the alternate characters in the string \n",
    "            o=o+string[i]# Here i am adding empty string to the list of characters according the index so that we can return the string and then print it.\n",
    "    return o\n",
    "string_alternative('Good evening')#called the function by passing \"Good Evening\" as a string."
   ]
  },
  {
   "cell_type": "code",
   "execution_count": null,
   "id": "e4da7a58-2875-4580-9b28-acbab0c7e935",
   "metadata": {},
   "outputs": [],
   "source": [
    "with open('input_file.txt','r') as ipf:#created a file named input_file and used read and split functions to read the file and split the words into several words as per the question\n",
    "    line=ipf.read()\n",
    "    word=line.split()\n",
    "    with open('output_file.txt','w') as opf:\n",
    "        for i in word: # Here i have iterated through word variable where the split of words are returned \n",
    "            opf.write(i+':'+str(word.count(i))+'\\n')      \n",
    "opf=open('output_file.txt','r')\n",
    "print(opf.read())"
   ]
  },
  {
   "cell_type": "code",
   "execution_count": 5,
   "id": "31d4f0a0-c623-4a1f-8518-564f2f318c3d",
   "metadata": {},
   "outputs": [
    {
     "ename": "KeyboardInterrupt",
     "evalue": "Interrupted by user",
     "output_type": "error",
     "traceback": [
      "\u001b[1;31m---------------------------------------------------------------------------\u001b[0m",
      "\u001b[1;31mKeyboardInterrupt\u001b[0m                         Traceback (most recent call last)",
      "Cell \u001b[1;32mIn[5], line 5\u001b[0m\n\u001b[0;32m      2\u001b[0m heights\u001b[38;5;241m=\u001b[39m[]\u001b[38;5;66;03m# Empty List\u001b[39;00m\n\u001b[0;32m      4\u001b[0m \u001b[38;5;28;01mwhile\u001b[39;00m \u001b[38;5;28;01mTrue\u001b[39;00m:\n\u001b[1;32m----> 5\u001b[0m     x\u001b[38;5;241m=\u001b[39m\u001b[38;5;28mfloat\u001b[39m(\u001b[38;5;28;43minput\u001b[39;49m\u001b[43m(\u001b[49m\u001b[43m)\u001b[49m)\n\u001b[0;32m      6\u001b[0m     \u001b[38;5;28;01mif\u001b[39;00m(x\u001b[38;5;241m<\u001b[39m\u001b[38;5;241m=\u001b[39m\u001b[38;5;241m0\u001b[39m):\n\u001b[0;32m      7\u001b[0m         \u001b[38;5;28;01mbreak\u001b[39;00m\n",
      "File \u001b[1;32m~\\AppData\\Local\\Programs\\Python\\Python311\\Lib\\site-packages\\ipykernel\\kernelbase.py:1262\u001b[0m, in \u001b[0;36mKernel.raw_input\u001b[1;34m(self, prompt)\u001b[0m\n\u001b[0;32m   1260\u001b[0m     msg \u001b[38;5;241m=\u001b[39m \u001b[38;5;124m\"\u001b[39m\u001b[38;5;124mraw_input was called, but this frontend does not support input requests.\u001b[39m\u001b[38;5;124m\"\u001b[39m\n\u001b[0;32m   1261\u001b[0m     \u001b[38;5;28;01mraise\u001b[39;00m StdinNotImplementedError(msg)\n\u001b[1;32m-> 1262\u001b[0m \u001b[38;5;28;01mreturn\u001b[39;00m \u001b[38;5;28;43mself\u001b[39;49m\u001b[38;5;241;43m.\u001b[39;49m\u001b[43m_input_request\u001b[49m\u001b[43m(\u001b[49m\n\u001b[0;32m   1263\u001b[0m \u001b[43m    \u001b[49m\u001b[38;5;28;43mstr\u001b[39;49m\u001b[43m(\u001b[49m\u001b[43mprompt\u001b[49m\u001b[43m)\u001b[49m\u001b[43m,\u001b[49m\n\u001b[0;32m   1264\u001b[0m \u001b[43m    \u001b[49m\u001b[38;5;28;43mself\u001b[39;49m\u001b[38;5;241;43m.\u001b[39;49m\u001b[43m_parent_ident\u001b[49m\u001b[43m[\u001b[49m\u001b[38;5;124;43m\"\u001b[39;49m\u001b[38;5;124;43mshell\u001b[39;49m\u001b[38;5;124;43m\"\u001b[39;49m\u001b[43m]\u001b[49m\u001b[43m,\u001b[49m\n\u001b[0;32m   1265\u001b[0m \u001b[43m    \u001b[49m\u001b[38;5;28;43mself\u001b[39;49m\u001b[38;5;241;43m.\u001b[39;49m\u001b[43mget_parent\u001b[49m\u001b[43m(\u001b[49m\u001b[38;5;124;43m\"\u001b[39;49m\u001b[38;5;124;43mshell\u001b[39;49m\u001b[38;5;124;43m\"\u001b[39;49m\u001b[43m)\u001b[49m\u001b[43m,\u001b[49m\n\u001b[0;32m   1266\u001b[0m \u001b[43m    \u001b[49m\u001b[43mpassword\u001b[49m\u001b[38;5;241;43m=\u001b[39;49m\u001b[38;5;28;43;01mFalse\u001b[39;49;00m\u001b[43m,\u001b[49m\n\u001b[0;32m   1267\u001b[0m \u001b[43m\u001b[49m\u001b[43m)\u001b[49m\n",
      "File \u001b[1;32m~\\AppData\\Local\\Programs\\Python\\Python311\\Lib\\site-packages\\ipykernel\\kernelbase.py:1305\u001b[0m, in \u001b[0;36mKernel._input_request\u001b[1;34m(self, prompt, ident, parent, password)\u001b[0m\n\u001b[0;32m   1302\u001b[0m \u001b[38;5;28;01mexcept\u001b[39;00m \u001b[38;5;167;01mKeyboardInterrupt\u001b[39;00m:\n\u001b[0;32m   1303\u001b[0m     \u001b[38;5;66;03m# re-raise KeyboardInterrupt, to truncate traceback\u001b[39;00m\n\u001b[0;32m   1304\u001b[0m     msg \u001b[38;5;241m=\u001b[39m \u001b[38;5;124m\"\u001b[39m\u001b[38;5;124mInterrupted by user\u001b[39m\u001b[38;5;124m\"\u001b[39m\n\u001b[1;32m-> 1305\u001b[0m     \u001b[38;5;28;01mraise\u001b[39;00m \u001b[38;5;167;01mKeyboardInterrupt\u001b[39;00m(msg) \u001b[38;5;28;01mfrom\u001b[39;00m \u001b[38;5;28;01mNone\u001b[39;00m\n\u001b[0;32m   1306\u001b[0m \u001b[38;5;28;01mexcept\u001b[39;00m \u001b[38;5;167;01mException\u001b[39;00m:\n\u001b[0;32m   1307\u001b[0m     \u001b[38;5;28mself\u001b[39m\u001b[38;5;241m.\u001b[39mlog\u001b[38;5;241m.\u001b[39mwarning(\u001b[38;5;124m\"\u001b[39m\u001b[38;5;124mInvalid Message:\u001b[39m\u001b[38;5;124m\"\u001b[39m, exc_info\u001b[38;5;241m=\u001b[39m\u001b[38;5;28;01mTrue\u001b[39;00m)\n",
      "\u001b[1;31mKeyboardInterrupt\u001b[0m: Interrupted by user"
     ]
    }
   ],
   "source": [
    "# Nested interactive loop\n",
    "heights=[]# Empty List\n",
    "\n",
    "while True:\n",
    "    x=float(input())\n",
    "    if(x<=0):\n",
    "        break\n",
    "    heights.append(x)#this is in inches"
   ]
  },
  {
   "cell_type": "code",
   "execution_count": null,
   "id": "824c404a-9cf5-4056-ad49-2e5b85ffb4e5",
   "metadata": {},
   "outputs": [],
   "source": [
    "output=[x*2.54 for x in heights]\n",
    "print(output)#this is in cm"
   ]
  },
  {
   "cell_type": "code",
   "execution_count": null,
   "id": "354f8b63-47db-42a0-87ff-fb3c5d896483",
   "metadata": {},
   "outputs": [],
   "source": []
  }
 ],
 "metadata": {
  "kernelspec": {
   "display_name": "Python 3 (ipykernel)",
   "language": "python",
   "name": "python3"
  },
  "language_info": {
   "codemirror_mode": {
    "name": "ipython",
    "version": 3
   },
   "file_extension": ".py",
   "mimetype": "text/x-python",
   "name": "python",
   "nbconvert_exporter": "python",
   "pygments_lexer": "ipython3",
   "version": "3.11.5"
  }
 },
 "nbformat": 4,
 "nbformat_minor": 5
}
